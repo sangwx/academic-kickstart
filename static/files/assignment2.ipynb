{
 "cells": [
  {
   "cell_type": "code",
   "execution_count": 0,
   "metadata": {
    "colab": {},
    "colab_type": "code",
    "id": "CakWWytGjwTS"
   },
   "outputs": [],
   "source": [
    "import pandas as pd\n",
    "import numpy as np\n",
    "import math\n",
    "import random\n",
    "from sklearn.utils import shuffle\n",
    "import sklearn.metrics as metrics\n",
    "import matplotlib.pyplot as plt"
   ]
  },
  {
   "cell_type": "markdown",
   "metadata": {
    "colab_type": "text",
    "id": "AkZ56QHA1O2K"
   },
   "source": [
    "a.Divide the dataset as development and test."
   ]
  },
  {
   "cell_type": "code",
   "execution_count": 172,
   "metadata": {
    "colab": {
     "base_uri": "https://localhost:8080/",
     "height": 1000
    },
    "colab_type": "code",
    "id": "JBYhuE1WqEas",
    "outputId": "cbefef0d-dd82-4665-d5c4-cc0ea6c42445"
   },
   "outputs": [
    {
     "name": "stdout",
     "output_type": "stream",
     "text": [
      "Train_set:\n",
      "    sepal_length sepal_width petal_length petal_width            class\n",
      "73           6.1         2.8          4.7         1.2  Iris-versicolor\n",
      "53           5.5         2.3          4.0         1.3  Iris-versicolor\n",
      "65           6.7         3.1          4.4         1.4  Iris-versicolor\n",
      "100          6.3         3.3          6.0         2.5   Iris-virginica\n",
      "12           4.8         3.0          1.4         0.1      Iris-setosa\n",
      "..           ...         ...          ...         ...              ...\n",
      "114          5.8         2.8          5.1         2.4   Iris-virginica\n",
      "38           4.4         3.0          1.3         0.2      Iris-setosa\n",
      "62           6.0         2.2          4.0         1.0  Iris-versicolor\n",
      "32           5.2         4.1          1.5         0.1      Iris-setosa\n",
      "59           5.2         2.7          3.9         1.4  Iris-versicolor\n",
      "\n",
      "[100 rows x 5 columns]\n",
      "Dev_set:\n",
      "    sepal_length sepal_width petal_length petal_width            class\n",
      "63           6.1         2.9          4.7         1.4  Iris-versicolor\n",
      "145          6.7         3.0          5.2         2.3   Iris-virginica\n",
      "86           6.7         3.1          4.7         1.5  Iris-versicolor\n",
      "0            5.1         3.5          1.4         0.2      Iris-setosa\n",
      "50           7.0         3.2          4.7         1.4  Iris-versicolor\n",
      "27           5.2         3.5          1.5         0.2      Iris-setosa\n",
      "137          6.4         3.1          5.5         1.8   Iris-virginica\n",
      "144          6.7         3.3          5.7         2.5   Iris-virginica\n",
      "13           4.3         3.0          1.1         0.1      Iris-setosa\n",
      "47           4.6         3.2          1.4         0.2      Iris-setosa\n",
      "106          4.9         2.5          4.5         1.7   Iris-virginica\n",
      "123          6.3         2.7          4.9         1.8   Iris-virginica\n",
      "143          6.8         3.2          5.9         2.3   Iris-virginica\n",
      "94           5.6         2.7          4.2         1.3  Iris-versicolor\n",
      "22           4.6         3.6          1.0         0.2      Iris-setosa\n",
      "55           5.7         2.8          4.5         1.3  Iris-versicolor\n",
      "74           6.4         2.9          4.3         1.3  Iris-versicolor\n",
      "101          5.8         2.7          5.1         1.9   Iris-virginica\n",
      "107          7.3         2.9          6.3         1.8   Iris-virginica\n",
      "30           4.8         3.1          1.6         0.2      Iris-setosa\n",
      "43           5.0         3.5          1.6         0.6      Iris-setosa\n",
      "93           5.0         2.3          3.3         1.0  Iris-versicolor\n",
      "25           5.0         3.0          1.6         0.2      Iris-setosa\n",
      "85           6.0         3.4          4.5         1.6  Iris-versicolor\n",
      "29           4.7         3.2          1.6         0.2      Iris-setosa\n",
      "Test_set:\n",
      "    sepal_length sepal_width petal_length petal_width            class\n",
      "52           6.9         3.1          4.9         1.5  Iris-versicolor\n",
      "148          6.2         3.4          5.4         2.3   Iris-virginica\n",
      "76           6.8         2.8          4.8         1.4  Iris-versicolor\n",
      "9            4.9         3.1          1.5         0.1      Iris-setosa\n",
      "46           5.1         3.8          1.6         0.2      Iris-setosa\n",
      "89           5.5         2.5          4.0         1.3  Iris-versicolor\n",
      "78           6.0         2.9          4.5         1.5  Iris-versicolor\n",
      "90           5.5         2.6          4.4         1.2  Iris-versicolor\n",
      "39           5.1         3.4          1.5         0.2      Iris-setosa\n",
      "45           4.8         3.0          1.4         0.3      Iris-setosa\n",
      "33           5.5         4.2          1.4         0.2      Iris-setosa\n",
      "113          5.7         2.5          5.0         2.0   Iris-virginica\n",
      "109          7.2         3.6          6.1         2.5   Iris-virginica\n",
      "110          6.5         3.2          5.1         2.0   Iris-virginica\n",
      "40           5.0         3.5          1.3         0.3      Iris-setosa\n",
      "66           5.6         3.0          4.5         1.5  Iris-versicolor\n",
      "131          7.9         3.8          6.4         2.0   Iris-virginica\n",
      "24           4.8         3.4          1.9         0.2      Iris-setosa\n",
      "54           6.5         2.8          4.6         1.5  Iris-versicolor\n",
      "133          6.3         2.8          5.1         1.5   Iris-virginica\n",
      "11           4.8         3.4          1.6         0.2      Iris-setosa\n",
      "3            4.6         3.1          1.5         0.2      Iris-setosa\n",
      "42           4.4         3.2          1.3         0.2      Iris-setosa\n",
      "97           6.2         2.9          4.3         1.3  Iris-versicolor\n",
      "129          7.2         3.0          5.8         1.6   Iris-virginica\n"
     ]
    }
   ],
   "source": [
    "def mean_std(x):\n",
    "  x = np.array(x).astype(np.float)\n",
    "  y = np.std(x,axis=0)\n",
    "  z = np.mean(x,axis=0)\n",
    "  return y,z\n",
    "\n",
    "def data():\n",
    "  x_train = []\n",
    "  y_test = []\n",
    "  train_data = []\n",
    "  with open(\"./assignment2/iris.data\") as f:\n",
    "    for line in f.read().splitlines():\n",
    "      line = line.split(',')\n",
    "      train_data.append(line)\n",
    "    df = pd.DataFrame(train_data,columns=['sepal_length','sepal_width','petal_length','petal_width','class'])\n",
    "    df = shuffle(df)\n",
    "    print('Train_set:')\n",
    "    print(df[:100])\n",
    "    print('Dev_set:')\n",
    "    print(df[100:125])\n",
    "    print('Test_set:')\n",
    "    print(df[125:])\n",
    "    x_train = df.values[:50,:-1]\n",
    "    y_train = df.values[:50,-1]\n",
    "    x_dev = df.values[50:100,:-1]\n",
    "    y_dev = df.values[50:100,-1]\n",
    "    x_test = df.values[100:,:-1]\n",
    "    y_test = df.values[100:,-1]\n",
    "    return x_train,y_train,x_dev,y_dev,x_test,y_test\n",
    "x_train,y_train,x_dev,y_dev,x_test,y_test = data()\n",
    "\n",
    "x_train_m,x_train_s = mean_std(x_train)\n",
    "x_dev_m,x_dev_s = mean_std(x_dev)\n",
    "x_test_m,x_test_s = mean_std(x_test)"
   ]
  },
  {
   "cell_type": "markdown",
   "metadata": {
    "colab_type": "text",
    "id": "RCLuDSlH3MiN"
   },
   "source": [
    "b.Implement KNN using the following hyperparameters\n",
    "\n",
    "number of neighbor K \n",
    "1,3,5,7\n",
    "\n",
    "distance metric\n",
    "\n",
    "euclidean distance, normalized euclidean distance, cosine similarity\n",
    "\n",
    "\n"
   ]
  },
  {
   "cell_type": "code",
   "execution_count": 0,
   "metadata": {
    "colab": {},
    "colab_type": "code",
    "id": "AuqOr4IL71Ev"
   },
   "outputs": [],
   "source": [
    "def euclidean(input1,input2):\n",
    "  input1 = np.array(input1).astype(np.float)\n",
    "  input2 = np.array(input2).astype(np.float)\n",
    "  distants = np.sqrt(np.sum(np.square(np.subtract(input1,input2))))\n",
    "  return distants\n",
    "\n",
    "def normalized_euclidean(input1,input2):\n",
    "  input1 = (np.array(input1).astype(np.float)-x_dev_m.astype(np.float))/x_dev_s.astype(np.float)\n",
    "  input2 = (np.array(input2).astype(np.float)-x_train_m.astype(np.float))/x_train_s.astype(np.float)\n",
    "  distants = np.sqrt(np.sum(np.square(np.subtract(input1,input2))))\n",
    "  return distants\n",
    "\n",
    "def cosine(input1,input2):\n",
    "  input1 = np.array(input1).astype(np.float)\n",
    "  input2 = np.array(input2).astype(np.float)\n",
    "  distants = -np.dot(input1,input2)/(np.linalg.norm(input1)*np.linalg.norm(input2))\n",
    "  return distants"
   ]
  },
  {
   "cell_type": "code",
   "execution_count": 0,
   "metadata": {
    "colab": {},
    "colab_type": "code",
    "id": "wLbw58Ob1B-x"
   },
   "outputs": [],
   "source": [
    "def KNN(input,data_set,data_set_label,k:int,model:int):\n",
    "  result = []\n",
    "  for i in input:\n",
    "    distance = [] #distance between input i and every sample in the training set\n",
    "    for j in data_set:\n",
    "      if model == 1:\n",
    "        d = euclidean(i,j)\n",
    "      elif model == 2:\n",
    "        d = normalized_euclidean(i,j)\n",
    "      elif model == 3:\n",
    "        d = cosine(i,j)\n",
    "      distance.append(d)\n",
    "    knn = sorted(distance)[:k] #find k neighbour\n",
    "    knn_label = []\n",
    "    index = []\n",
    "    knn_count = {}\n",
    "    for q in knn: # find k neighbour label\n",
    "       index.append(distance.index(q))\n",
    "       knn_label.append(data_set_label[distance.index(q)])\n",
    "    for i in knn_label:\n",
    "      if i not in knn_count.keys():\n",
    "        knn_count[i] = knn_label.count(i)\n",
    "    res = max(knn_count,key=lambda x:knn_count[x])\n",
    "    # print(knn_count)\n",
    "    # print(res)\n",
    "    result.append(res)\n",
    "  return result\n",
    "#print(label)"
   ]
  },
  {
   "cell_type": "markdown",
   "metadata": {
    "colab_type": "text",
    "id": "JUu4dTUhxZ3l"
   },
   "source": [
    "c.Using the development dataset\n",
    "\n",
    "1.Calculate accuracy by iterating all of the development data point\n",
    "\n",
    "2.Find optimal hyperparameters\n",
    "\n",
    "3.Draw bar charts for accuracy\n"
   ]
  },
  {
   "cell_type": "markdown",
   "metadata": {
    "colab_type": "text",
    "id": "iPhWcN3Wyv1a"
   },
   "source": [
    "Euclidean distance"
   ]
  },
  {
   "cell_type": "code",
   "execution_count": 175,
   "metadata": {
    "colab": {
     "base_uri": "https://localhost:8080/",
     "height": 346
    },
    "colab_type": "code",
    "id": "sAdP02OVxn8s",
    "outputId": "48c9ab90-9b7c-4216-f6d4-1430cb523de5"
   },
   "outputs": [
    {
     "name": "stdout",
     "output_type": "stream",
     "text": [
      "K=1:0.92\n",
      "K=3:0.9\n",
      "K=5:0.88\n",
      "K=7:0.9\n"
     ]
    },
    {
     "data": {
      "image/png": "[encoded data removed]",
      "text/plain": [
       "<Figure size 432x288 with 1 Axes>"
      ]
     },
     "metadata": {
      "tags": []
     },
     "output_type": "display_data"
    }
   ],
   "source": [
    "label1 = KNN(x_dev,x_train,y_train,1,1)\n",
    "label2 = KNN(x_dev,x_train,y_train,3,1)\n",
    "label3 = KNN(x_dev,x_train,y_train,5,1)\n",
    "label4 = KNN(x_dev,x_train,y_train,7,1)\n",
    "result1 = metrics.accuracy_score(y_dev,label1)\n",
    "result2 = metrics.accuracy_score(y_dev,label2)\n",
    "result3 = metrics.accuracy_score(y_dev,label3)\n",
    "result4 = metrics.accuracy_score(y_dev,label4)\n",
    "print(\"K=1:\"+str(result1))\n",
    "print(\"K=3:\"+str(result2))\n",
    "print(\"K=5:\"+str(result3))\n",
    "print(\"K=7:\"+str(result4))\n",
    "name = ['K=1','K=3','K=5','K=7']\n",
    "result = [result1,result2,result3,result4]\n",
    "plt.bar(name,result)\n",
    "plt.xlabel('Number of neighbor')\n",
    "plt.ylabel('Precision')\n",
    "for a, b in zip(name, result):\n",
    " plt.text(a, b, '%.3f' % b, ha='center', va='bottom', fontsize=11)\n",
    "plt.show()"
   ]
  },
  {
   "cell_type": "markdown",
   "metadata": {
    "colab_type": "text",
    "id": "TF48O5vJz0mV"
   },
   "source": [
    "Normalized euclidean distance"
   ]
  },
  {
   "cell_type": "code",
   "execution_count": 176,
   "metadata": {
    "colab": {
     "base_uri": "https://localhost:8080/",
     "height": 346
    },
    "colab_type": "code",
    "id": "5i5SEPfQz1a5",
    "outputId": "84b59aad-5738-496e-f559-e2b1bc6cb8e0"
   },
   "outputs": [
    {
     "name": "stdout",
     "output_type": "stream",
     "text": [
      "K=1:0.94\n",
      "K=3:0.94\n",
      "K=5:0.92\n",
      "K=7:0.92\n"
     ]
    },
    {
     "data": {
      "image/png": "[encoded data removed]",
      "text/plain": [
       "<Figure size 432x288 with 1 Axes>"
      ]
     },
     "metadata": {
      "tags": []
     },
     "output_type": "display_data"
    }
   ],
   "source": [
    "label1 = KNN(x_dev,x_train,y_train,1,2)\n",
    "label2 = KNN(x_dev,x_train,y_train,3,2)\n",
    "label3 = KNN(x_dev,x_train,y_train,5,2)\n",
    "label4 = KNN(x_dev,x_train,y_train,7,2)\n",
    "result1 = metrics.accuracy_score(y_dev,label1)\n",
    "result2 = metrics.accuracy_score(y_dev,label2)\n",
    "result3 = metrics.accuracy_score(y_dev,label3)\n",
    "result4 = metrics.accuracy_score(y_dev,label4)\n",
    "print(\"K=1:\"+str(result1))\n",
    "print(\"K=3:\"+str(result2))\n",
    "print(\"K=5:\"+str(result3))\n",
    "print(\"K=7:\"+str(result4))\n",
    "name = ['K=1','K=3','K=5','K=7']\n",
    "result = [result1,result2,result3,result4]\n",
    "plt.bar(name,result)\n",
    "plt.xlabel('Number of neighbor')\n",
    "plt.ylabel('Precision')\n",
    "for a, b in zip(name, result):\n",
    " plt.text(a, b, '%.3f' % b, ha='center', va='bottom', fontsize=11)\n",
    "plt.show()"
   ]
  },
  {
   "cell_type": "markdown",
   "metadata": {
    "colab_type": "text",
    "id": "31K_BTnN0Amy"
   },
   "source": [
    "Cosine similarity"
   ]
  },
  {
   "cell_type": "code",
   "execution_count": 177,
   "metadata": {
    "colab": {
     "base_uri": "https://localhost:8080/",
     "height": 346
    },
    "colab_type": "code",
    "id": "9rikRsC90BA9",
    "outputId": "a0b2bc32-e915-4b77-8837-de52fe263315"
   },
   "outputs": [
    {
     "name": "stdout",
     "output_type": "stream",
     "text": [
      "K=1:0.94\n",
      "K=3:0.9\n",
      "K=5:0.86\n",
      "K=7:0.92\n"
     ]
    },
    {
     "data": {
      "image/png": "[encoded data removed]",
      "text/plain": [
       "<Figure size 432x288 with 1 Axes>"
      ]
     },
     "metadata": {
      "tags": []
     },
     "output_type": "display_data"
    }
   ],
   "source": [
    "label1 = KNN(x_dev,x_train,y_train,1,3)\n",
    "label2 = KNN(x_dev,x_train,y_train,3,3)\n",
    "label3 = KNN(x_dev,x_train,y_train,5,3)\n",
    "label3 = KNN(x_dev,x_train,y_train,7,3)\n",
    "result1 = metrics.accuracy_score(y_dev,label1)\n",
    "result2 = metrics.accuracy_score(y_dev,label2)\n",
    "result3 = metrics.accuracy_score(y_dev,label3)\n",
    "result4 = metrics.accuracy_score(y_dev,label4)\n",
    "print(\"K=1:\"+str(result1))\n",
    "print(\"K=3:\"+str(result2))\n",
    "print(\"K=5:\"+str(result3))\n",
    "print(\"K=7:\"+str(result4))\n",
    "name = ['K=1','K=3','K=5','K=7']\n",
    "result = [result1,result2,result3,result4]\n",
    "plt.bar(name,result)\n",
    "plt.xlabel('Number of neighbor')\n",
    "plt.ylabel('Precision')\n",
    "for a, b in zip(name, result):\n",
    " plt.text(a, b, '%.3f' % b, ha='center', va='bottom', fontsize=11)\n",
    "plt.show()"
   ]
  },
  {
   "cell_type": "markdown",
   "metadata": {
    "colab_type": "text",
    "id": "kRw-5cqfj9Ln"
   },
   "source": [
    "So we choose the best perfomance model:\n",
    "\n",
    "Normalized euclidean distance\n",
    "\n",
    "Number of neibhbor: K=3"
   ]
  },
  {
   "cell_type": "markdown",
   "metadata": {
    "colab_type": "text",
    "id": "UhCx9g3wfUMi"
   },
   "source": [
    "d.Using the test dataset\n"
   ]
  },
  {
   "cell_type": "code",
   "execution_count": 180,
   "metadata": {
    "colab": {
     "base_uri": "https://localhost:8080/",
     "height": 34
    },
    "colab_type": "code",
    "id": "vZ_5ZujofbUu",
    "outputId": "9ec2ef9e-5178-48ce-c7cf-e6d0931f9a50"
   },
   "outputs": [
    {
     "name": "stdout",
     "output_type": "stream",
     "text": [
      "Precision:0.96\n"
     ]
    }
   ],
   "source": [
    "label = KNN(x_test,x_train,y_train,3,3)\n",
    "result = metrics.accuracy_score(y_test,label)\n",
    "print(\"Precision:\"+str(result))"
   ]
  }
 ],
 "metadata": {
  "colab": {
   "name": "assignment2.ipynb",
   "provenance": []
  },
  "kernelspec": {
   "display_name": "Python 3",
   "language": "python",
   "name": "python3"
  }
 },
 "nbformat": 4,
 "nbformat_minor": 1
}
